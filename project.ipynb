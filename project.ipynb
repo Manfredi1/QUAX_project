{
 "cells": [
  {
   "cell_type": "code",
   "execution_count": 156,
   "id": "10194d8d",
   "metadata": {},
   "outputs": [],
   "source": [
    "import os\n",
    "import pandas as pd\n",
    "import numpy as np\n",
    "import scipy\n",
    "from scipy import optimize\n",
    "import matplotlib.pyplot as plt\n",
    "\n",
    "from lmfit import Model"
   ]
  },
  {
   "cell_type": "code",
   "execution_count": 102,
   "id": "497a9240",
   "metadata": {},
   "outputs": [
    {
     "name": "stdout",
     "output_type": "stream",
     "text": [
      "File caricati:\n",
      "AnalyzedDataFFT_Run_409_sliced.xlsx\n",
      "AnalyzedDataFFT_Run_407_sliced.xlsx\n",
      "AnalyzedDataFFT_Run_415_sliced.xlsx\n",
      "AnalyzedDataFFT_Run_404_sliced.xlsx\n",
      "AnalyzedDataFFT_Run_413_sliced.xlsx\n",
      "AnalyzedDataFFT_Run_395_sliced.xlsx\n",
      "AnalyzedDataFFT_Run_394_sliced.xlsx\n",
      "AnalyzedDataFFT_Run_401_sliced.xlsx\n",
      "AnalyzedDataFFT_Run_389_sliced.xlsx\n",
      "AnalyzedDataFFT_Run_392_sliced.xlsx\n",
      "AnalyzedDataFFT_Run_399_sliced.xlsx\n",
      "AnalyzedDataFFT_Run_397_sliced.xlsx\n",
      "AnalyzedDataFFT_Run_411_sliced.xlsx\n"
     ]
    }
   ],
   "source": [
    "path='./db/' # dove sono i file excel\n",
    "files = os.listdir(path)\n",
    "i = 0\n",
    "\n",
    "print('File caricati:')\n",
    "\n",
    "for file in files:\n",
    "    print(file)\n",
    "    file = path + file\n",
    "    meta = pd.read_excel(file,sheet_name=0,header=None)\n",
    "    freq = pd.read_excel(file,sheet_name=1)\n",
    "    fft = pd.read_excel(file,sheet_name=2)\n",
    "    \n",
    "    if i==0:\n",
    "        a=np.array([meta.iloc[0,1],meta.iloc[3,1]])\n",
    "        info = pd.DataFrame([a],columns=['run','cavfreq']) # -> Qui tengo le frequenze di cavità \n",
    "    \n",
    "        data = pd.DataFrame({'freq':freq[1],'fft0':fft[1]}) # -> Qui frequenze e fft\n",
    "        \n",
    "    else:\n",
    "        info.loc[len(info)]=list([meta.iloc[0,1],meta.iloc[3,1]])\n",
    "        \n",
    "        colname = 'fft' + str(i)\n",
    "        data[colname]=fft2[1]\n",
    "        \n",
    "    i += 1\n",
    "    \n",
    "    \n",
    "info['run'] = pd.to_numeric(info['run'],downcast='integer')"
   ]
  },
  {
   "cell_type": "code",
   "execution_count": 108,
   "id": "50855684",
   "metadata": {},
   "outputs": [
    {
     "data": {
      "text/html": [
       "<div>\n",
       "<style scoped>\n",
       "    .dataframe tbody tr th:only-of-type {\n",
       "        vertical-align: middle;\n",
       "    }\n",
       "\n",
       "    .dataframe tbody tr th {\n",
       "        vertical-align: top;\n",
       "    }\n",
       "\n",
       "    .dataframe thead th {\n",
       "        text-align: right;\n",
       "    }\n",
       "</style>\n",
       "<table border=\"1\" class=\"dataframe\">\n",
       "  <thead>\n",
       "    <tr style=\"text-align: right;\">\n",
       "      <th></th>\n",
       "      <th>freq</th>\n",
       "      <th>fft0</th>\n",
       "      <th>fft1</th>\n",
       "      <th>fft2</th>\n",
       "      <th>fft3</th>\n",
       "      <th>fft4</th>\n",
       "      <th>fft5</th>\n",
       "      <th>fft6</th>\n",
       "      <th>fft7</th>\n",
       "      <th>fft8</th>\n",
       "      <th>fft9</th>\n",
       "      <th>fft10</th>\n",
       "      <th>fft11</th>\n",
       "      <th>fft12</th>\n",
       "    </tr>\n",
       "  </thead>\n",
       "  <tbody>\n",
       "    <tr>\n",
       "      <th>0</th>\n",
       "      <td>1.035190e+10</td>\n",
       "      <td>0.000049</td>\n",
       "      <td>0.000049</td>\n",
       "      <td>0.000049</td>\n",
       "      <td>0.000049</td>\n",
       "      <td>0.000049</td>\n",
       "      <td>0.000049</td>\n",
       "      <td>0.000049</td>\n",
       "      <td>0.000049</td>\n",
       "      <td>0.000049</td>\n",
       "      <td>0.000049</td>\n",
       "      <td>0.000049</td>\n",
       "      <td>0.000049</td>\n",
       "      <td>0.000049</td>\n",
       "    </tr>\n",
       "    <tr>\n",
       "      <th>1</th>\n",
       "      <td>1.035190e+10</td>\n",
       "      <td>0.000049</td>\n",
       "      <td>0.000049</td>\n",
       "      <td>0.000049</td>\n",
       "      <td>0.000049</td>\n",
       "      <td>0.000049</td>\n",
       "      <td>0.000049</td>\n",
       "      <td>0.000049</td>\n",
       "      <td>0.000049</td>\n",
       "      <td>0.000049</td>\n",
       "      <td>0.000049</td>\n",
       "      <td>0.000049</td>\n",
       "      <td>0.000049</td>\n",
       "      <td>0.000049</td>\n",
       "    </tr>\n",
       "    <tr>\n",
       "      <th>2</th>\n",
       "      <td>1.035190e+10</td>\n",
       "      <td>0.000049</td>\n",
       "      <td>0.000049</td>\n",
       "      <td>0.000049</td>\n",
       "      <td>0.000049</td>\n",
       "      <td>0.000049</td>\n",
       "      <td>0.000049</td>\n",
       "      <td>0.000049</td>\n",
       "      <td>0.000049</td>\n",
       "      <td>0.000049</td>\n",
       "      <td>0.000049</td>\n",
       "      <td>0.000049</td>\n",
       "      <td>0.000049</td>\n",
       "      <td>0.000049</td>\n",
       "    </tr>\n",
       "    <tr>\n",
       "      <th>3</th>\n",
       "      <td>1.035190e+10</td>\n",
       "      <td>0.000049</td>\n",
       "      <td>0.000049</td>\n",
       "      <td>0.000049</td>\n",
       "      <td>0.000049</td>\n",
       "      <td>0.000049</td>\n",
       "      <td>0.000049</td>\n",
       "      <td>0.000049</td>\n",
       "      <td>0.000049</td>\n",
       "      <td>0.000049</td>\n",
       "      <td>0.000049</td>\n",
       "      <td>0.000049</td>\n",
       "      <td>0.000049</td>\n",
       "      <td>0.000049</td>\n",
       "    </tr>\n",
       "    <tr>\n",
       "      <th>4</th>\n",
       "      <td>1.035190e+10</td>\n",
       "      <td>0.000049</td>\n",
       "      <td>0.000049</td>\n",
       "      <td>0.000049</td>\n",
       "      <td>0.000049</td>\n",
       "      <td>0.000049</td>\n",
       "      <td>0.000049</td>\n",
       "      <td>0.000049</td>\n",
       "      <td>0.000049</td>\n",
       "      <td>0.000049</td>\n",
       "      <td>0.000049</td>\n",
       "      <td>0.000049</td>\n",
       "      <td>0.000049</td>\n",
       "      <td>0.000049</td>\n",
       "    </tr>\n",
       "    <tr>\n",
       "      <th>...</th>\n",
       "      <td>...</td>\n",
       "      <td>...</td>\n",
       "      <td>...</td>\n",
       "      <td>...</td>\n",
       "      <td>...</td>\n",
       "      <td>...</td>\n",
       "      <td>...</td>\n",
       "      <td>...</td>\n",
       "      <td>...</td>\n",
       "      <td>...</td>\n",
       "      <td>...</td>\n",
       "      <td>...</td>\n",
       "      <td>...</td>\n",
       "      <td>...</td>\n",
       "    </tr>\n",
       "    <tr>\n",
       "      <th>3067</th>\n",
       "      <td>1.035390e+10</td>\n",
       "      <td>0.000049</td>\n",
       "      <td>0.000049</td>\n",
       "      <td>0.000049</td>\n",
       "      <td>0.000049</td>\n",
       "      <td>0.000049</td>\n",
       "      <td>0.000049</td>\n",
       "      <td>0.000049</td>\n",
       "      <td>0.000049</td>\n",
       "      <td>0.000049</td>\n",
       "      <td>0.000049</td>\n",
       "      <td>0.000049</td>\n",
       "      <td>0.000049</td>\n",
       "      <td>0.000049</td>\n",
       "    </tr>\n",
       "    <tr>\n",
       "      <th>3068</th>\n",
       "      <td>1.035390e+10</td>\n",
       "      <td>0.000049</td>\n",
       "      <td>0.000049</td>\n",
       "      <td>0.000049</td>\n",
       "      <td>0.000049</td>\n",
       "      <td>0.000049</td>\n",
       "      <td>0.000049</td>\n",
       "      <td>0.000049</td>\n",
       "      <td>0.000049</td>\n",
       "      <td>0.000049</td>\n",
       "      <td>0.000049</td>\n",
       "      <td>0.000049</td>\n",
       "      <td>0.000049</td>\n",
       "      <td>0.000049</td>\n",
       "    </tr>\n",
       "    <tr>\n",
       "      <th>3069</th>\n",
       "      <td>1.035390e+10</td>\n",
       "      <td>0.000049</td>\n",
       "      <td>0.000049</td>\n",
       "      <td>0.000049</td>\n",
       "      <td>0.000049</td>\n",
       "      <td>0.000049</td>\n",
       "      <td>0.000049</td>\n",
       "      <td>0.000049</td>\n",
       "      <td>0.000049</td>\n",
       "      <td>0.000049</td>\n",
       "      <td>0.000049</td>\n",
       "      <td>0.000049</td>\n",
       "      <td>0.000049</td>\n",
       "      <td>0.000049</td>\n",
       "    </tr>\n",
       "    <tr>\n",
       "      <th>3070</th>\n",
       "      <td>1.035390e+10</td>\n",
       "      <td>0.000049</td>\n",
       "      <td>0.000049</td>\n",
       "      <td>0.000049</td>\n",
       "      <td>0.000049</td>\n",
       "      <td>0.000049</td>\n",
       "      <td>0.000049</td>\n",
       "      <td>0.000049</td>\n",
       "      <td>0.000049</td>\n",
       "      <td>0.000049</td>\n",
       "      <td>0.000049</td>\n",
       "      <td>0.000049</td>\n",
       "      <td>0.000049</td>\n",
       "      <td>0.000049</td>\n",
       "    </tr>\n",
       "    <tr>\n",
       "      <th>3071</th>\n",
       "      <td>1.035390e+10</td>\n",
       "      <td>0.000049</td>\n",
       "      <td>0.000049</td>\n",
       "      <td>0.000049</td>\n",
       "      <td>0.000049</td>\n",
       "      <td>0.000049</td>\n",
       "      <td>0.000049</td>\n",
       "      <td>0.000049</td>\n",
       "      <td>0.000049</td>\n",
       "      <td>0.000049</td>\n",
       "      <td>0.000049</td>\n",
       "      <td>0.000049</td>\n",
       "      <td>0.000049</td>\n",
       "      <td>0.000049</td>\n",
       "    </tr>\n",
       "  </tbody>\n",
       "</table>\n",
       "<p>3072 rows × 14 columns</p>\n",
       "</div>"
      ],
      "text/plain": [
       "              freq      fft0      fft1      fft2      fft3      fft4  \\\n",
       "0     1.035190e+10  0.000049  0.000049  0.000049  0.000049  0.000049   \n",
       "1     1.035190e+10  0.000049  0.000049  0.000049  0.000049  0.000049   \n",
       "2     1.035190e+10  0.000049  0.000049  0.000049  0.000049  0.000049   \n",
       "3     1.035190e+10  0.000049  0.000049  0.000049  0.000049  0.000049   \n",
       "4     1.035190e+10  0.000049  0.000049  0.000049  0.000049  0.000049   \n",
       "...            ...       ...       ...       ...       ...       ...   \n",
       "3067  1.035390e+10  0.000049  0.000049  0.000049  0.000049  0.000049   \n",
       "3068  1.035390e+10  0.000049  0.000049  0.000049  0.000049  0.000049   \n",
       "3069  1.035390e+10  0.000049  0.000049  0.000049  0.000049  0.000049   \n",
       "3070  1.035390e+10  0.000049  0.000049  0.000049  0.000049  0.000049   \n",
       "3071  1.035390e+10  0.000049  0.000049  0.000049  0.000049  0.000049   \n",
       "\n",
       "          fft5      fft6      fft7      fft8      fft9     fft10     fft11  \\\n",
       "0     0.000049  0.000049  0.000049  0.000049  0.000049  0.000049  0.000049   \n",
       "1     0.000049  0.000049  0.000049  0.000049  0.000049  0.000049  0.000049   \n",
       "2     0.000049  0.000049  0.000049  0.000049  0.000049  0.000049  0.000049   \n",
       "3     0.000049  0.000049  0.000049  0.000049  0.000049  0.000049  0.000049   \n",
       "4     0.000049  0.000049  0.000049  0.000049  0.000049  0.000049  0.000049   \n",
       "...        ...       ...       ...       ...       ...       ...       ...   \n",
       "3067  0.000049  0.000049  0.000049  0.000049  0.000049  0.000049  0.000049   \n",
       "3068  0.000049  0.000049  0.000049  0.000049  0.000049  0.000049  0.000049   \n",
       "3069  0.000049  0.000049  0.000049  0.000049  0.000049  0.000049  0.000049   \n",
       "3070  0.000049  0.000049  0.000049  0.000049  0.000049  0.000049  0.000049   \n",
       "3071  0.000049  0.000049  0.000049  0.000049  0.000049  0.000049  0.000049   \n",
       "\n",
       "         fft12  \n",
       "0     0.000049  \n",
       "1     0.000049  \n",
       "2     0.000049  \n",
       "3     0.000049  \n",
       "4     0.000049  \n",
       "...        ...  \n",
       "3067  0.000049  \n",
       "3068  0.000049  \n",
       "3069  0.000049  \n",
       "3070  0.000049  \n",
       "3071  0.000049  \n",
       "\n",
       "[3072 rows x 14 columns]"
      ]
     },
     "execution_count": 108,
     "metadata": {},
     "output_type": "execute_result"
    }
   ],
   "source": [
    "#meta = pd.read_excel('db/AnalyzedDataFFT_Run_389_sliced.xlsx',sheet_name=0,header=None)\n",
    "#freq = pd.read_excel('db/AnalyzedDataFFT_Run_389_sliced.xlsx',sheet_name=1)\n",
    "#fft = pd.read_excel('db/AnalyzedDataFFT_Run_389_sliced.xlsx',sheet_name=2)\n",
    "#\n",
    "#meta\n",
    "#\n",
    "#meta2 = pd.read_excel('db/AnalyzedDataFFT_Run_394_sliced.xlsx',sheet_name=0,header=None)\n",
    "#freq2 = pd.read_excel('db/AnalyzedDataFFT_Run_394_sliced.xlsx',sheet_name=1)\n",
    "#fft2 = pd.read_excel('db/AnalyzedDataFFT_Run_394_sliced.xlsx',sheet_name=2)\n",
    "data"
   ]
  },
  {
   "cell_type": "code",
   "execution_count": 109,
   "id": "97f6edee",
   "metadata": {},
   "outputs": [
    {
     "data": {
      "text/html": [
       "<div>\n",
       "<style scoped>\n",
       "    .dataframe tbody tr th:only-of-type {\n",
       "        vertical-align: middle;\n",
       "    }\n",
       "\n",
       "    .dataframe tbody tr th {\n",
       "        vertical-align: top;\n",
       "    }\n",
       "\n",
       "    .dataframe thead th {\n",
       "        text-align: right;\n",
       "    }\n",
       "</style>\n",
       "<table border=\"1\" class=\"dataframe\">\n",
       "  <thead>\n",
       "    <tr style=\"text-align: right;\">\n",
       "      <th></th>\n",
       "      <th>run</th>\n",
       "      <th>cavfreq</th>\n",
       "    </tr>\n",
       "  </thead>\n",
       "  <tbody>\n",
       "    <tr>\n",
       "      <th>0</th>\n",
       "      <td>409</td>\n",
       "      <td>1.035336e+10</td>\n",
       "    </tr>\n",
       "    <tr>\n",
       "      <th>1</th>\n",
       "      <td>407</td>\n",
       "      <td>1.035335e+10</td>\n",
       "    </tr>\n",
       "    <tr>\n",
       "      <th>2</th>\n",
       "      <td>415</td>\n",
       "      <td>1.035339e+10</td>\n",
       "    </tr>\n",
       "    <tr>\n",
       "      <th>3</th>\n",
       "      <td>404</td>\n",
       "      <td>1.035337e+10</td>\n",
       "    </tr>\n",
       "    <tr>\n",
       "      <th>4</th>\n",
       "      <td>413</td>\n",
       "      <td>1.035338e+10</td>\n",
       "    </tr>\n",
       "    <tr>\n",
       "      <th>5</th>\n",
       "      <td>395</td>\n",
       "      <td>1.035347e+10</td>\n",
       "    </tr>\n",
       "    <tr>\n",
       "      <th>6</th>\n",
       "      <td>394</td>\n",
       "      <td>1.035347e+10</td>\n",
       "    </tr>\n",
       "    <tr>\n",
       "      <th>7</th>\n",
       "      <td>401</td>\n",
       "      <td>1.035339e+10</td>\n",
       "    </tr>\n",
       "    <tr>\n",
       "      <th>8</th>\n",
       "      <td>389</td>\n",
       "      <td>1.035352e+10</td>\n",
       "    </tr>\n",
       "    <tr>\n",
       "      <th>9</th>\n",
       "      <td>392</td>\n",
       "      <td>1.035349e+10</td>\n",
       "    </tr>\n",
       "    <tr>\n",
       "      <th>10</th>\n",
       "      <td>399</td>\n",
       "      <td>1.035342e+10</td>\n",
       "    </tr>\n",
       "    <tr>\n",
       "      <th>11</th>\n",
       "      <td>397</td>\n",
       "      <td>1.035344e+10</td>\n",
       "    </tr>\n",
       "    <tr>\n",
       "      <th>12</th>\n",
       "      <td>411</td>\n",
       "      <td>1.035336e+10</td>\n",
       "    </tr>\n",
       "  </tbody>\n",
       "</table>\n",
       "</div>"
      ],
      "text/plain": [
       "    run       cavfreq\n",
       "0   409  1.035336e+10\n",
       "1   407  1.035335e+10\n",
       "2   415  1.035339e+10\n",
       "3   404  1.035337e+10\n",
       "4   413  1.035338e+10\n",
       "5   395  1.035347e+10\n",
       "6   394  1.035347e+10\n",
       "7   401  1.035339e+10\n",
       "8   389  1.035352e+10\n",
       "9   392  1.035349e+10\n",
       "10  399  1.035342e+10\n",
       "11  397  1.035344e+10\n",
       "12  411  1.035336e+10"
      ]
     },
     "execution_count": 109,
     "metadata": {},
     "output_type": "execute_result"
    }
   ],
   "source": [
    "#meta = pd.DataFrame(np.array([meta.iloc[0,1],meta.iloc[3,1]]),columns=['run','cavfreq'])\n",
    "#meta\n",
    "\n",
    "#a=np.array([meta.iloc[0,1],meta.iloc[3,1]])\n",
    "#info = pd.DataFrame([a],columns=['run','cavfreq'])\n",
    "#info['run'] = pd.to_numeric(info['run'],downcast='integer') # -> converto run in intero\n",
    "#info\n",
    "#\n",
    "#info.loc[len(info)]=list([meta2.iloc[0,1],meta2.iloc[3,1]])\n",
    "#print(meta)\n",
    "#print(meta2)\n",
    "info"
   ]
  },
  {
   "cell_type": "code",
   "execution_count": 110,
   "id": "15a460a5",
   "metadata": {},
   "outputs": [
    {
     "data": {
      "image/png": "[encoded data removed]",
      "text/plain": [
       "<Figure size 1080x360 with 1 Axes>"
      ]
     },
     "metadata": {
      "needs_background": "light"
     },
     "output_type": "display_data"
    }
   ],
   "source": [
    "# I dati sono così\n",
    "\n",
    "plt.figure(figsize=(15,5))\n",
    "plt.plot(data['freq'],data['fft0'])\n",
    "\n",
    "plt.vlines(info['cavfreq'][0],0,.00018,'green') # frequenza di cavità\n",
    "plt.show()"
   ]
  },
  {
   "cell_type": "code",
   "execution_count": 118,
   "id": "b291d11c",
   "metadata": {},
   "outputs": [],
   "source": [
    "# trasformo le frequenze in Mhz e le traslo così è più semplice lavorare\n",
    "info['cavfreq'] = (info['cavfreq']/1e9 - 10.35) *1e3\n",
    "data['freq'] = (data['freq']/1e9 - 10.35) *1e3\n",
    "\n",
    "# e trasformo anche fft\n",
    "for name in data:\n",
    "    if name != 'freq':\n",
    "        data[name] *= 1e5"
   ]
  },
  {
   "cell_type": "code",
   "execution_count": 122,
   "id": "3b7850d1",
   "metadata": {},
   "outputs": [
    {
     "data": {
      "image/png": "[encoded data removed]",
      "text/plain": [
       "<Figure size 1080x360 with 1 Axes>"
      ]
     },
     "metadata": {
      "needs_background": "light"
     },
     "output_type": "display_data"
    }
   ],
   "source": [
    "# dopo la trasformazione\n",
    "\n",
    "plt.figure(figsize=(15,5))\n",
    "plt.plot(data['freq'],data['fft0'])\n",
    "\n",
    "plt.vlines(info['cavfreq'][0],4,18,'green') # frequenza di cavità\n",
    "plt.ylim([4,18])\n",
    "plt.show()"
   ]
  },
  {
   "cell_type": "code",
   "execution_count": 125,
   "id": "fc3be864",
   "metadata": {},
   "outputs": [
    {
     "data": {
      "image/png": "[encoded data removed]",
      "text/plain": [
       "<Figure size 1080x360 with 1 Axes>"
      ]
     },
     "metadata": {
      "needs_background": "light"
     },
     "output_type": "display_data"
    }
   ],
   "source": [
    "# notare che non è una linea dritta\n",
    "\n",
    "plt.figure(figsize=(15,5))\n",
    "plt.plot(data['freq'],data['fft0'])\n",
    "\n",
    "#plt.vlines(info['cavfreq'][0],4,18,'green') # frequenza di cavità\n",
    "plt.ylim([4.5,6])\n",
    "plt.show()"
   ]
  },
  {
   "cell_type": "code",
   "execution_count": 133,
   "id": "d6b5f351",
   "metadata": {},
   "outputs": [
    {
     "data": {
      "image/png": "[encoded data removed]",
      "text/plain": [
       "<Figure size 1080x360 with 1 Axes>"
      ]
     },
     "metadata": {
      "needs_background": "light"
     },
     "output_type": "display_data"
    }
   ],
   "source": [
    "# zoom sulla cavità intorno a delta\n",
    "delta = .05\n",
    "center = info['cavfreq'][0]\n",
    "\n",
    "plt.figure(figsize=(15,5))\n",
    "plt.plot(data['freq'],data['fft0'])\n",
    "\n",
    "plt.vlines(center,4,18,'green')\n",
    "plt.ylim([4.4,5.6])\n",
    "plt.xlim([center-delta,center+delta])\n",
    "plt.show()"
   ]
  },
  {
   "cell_type": "code",
   "execution_count": 244,
   "id": "6b5be5ec",
   "metadata": {},
   "outputs": [
    {
     "name": "stdout",
     "output_type": "stream",
     "text": [
      "[ 3.35759900e+00  5.40821998e+05  3.35759900e+00  2.20000000e+04\n",
      "  4.34362965e-02 -1.77317602e-13]\n"
     ]
    },
    {
     "name": "stderr",
     "output_type": "stream",
     "text": [
      "/home/edi/anaconda3/lib/python3.9/site-packages/scipy/optimize/minpack.py:833: OptimizeWarning: Covariance of the parameters could not be estimated\n",
      "  warnings.warn('Covariance of the parameters could not be estimated',\n"
     ]
    },
    {
     "data": {
      "image/png": "[encoded data removed]",
      "text/plain": [
       "<Figure size 1080x360 with 1 Axes>"
      ]
     },
     "metadata": {
      "needs_background": "light"
     },
     "output_type": "display_data"
    }
   ],
   "source": [
    "# Fit\n",
    "\n",
    "def fitm(x,a,b,c,d,e,f):\n",
    "    return e**2*abs(x-a+1j*b)**2/abs(x-c+1j*d)**2+f*(x-c)\n",
    "\n",
    "delta = .01\n",
    "scale = 1    # fattore di scala per lo zoom\n",
    "\n",
    "plt.figure(figsize=(15,5))\n",
    "plt.plot(data['freq'],data['fft0'],'o')\n",
    "\n",
    "plt.vlines(center,0,6,'green')\n",
    "plt.ylim([4,6])\n",
    "#plt.ylim([0,6]) # commenta se vuoi vedere il fit di scipy\n",
    "plt.xlim([center-scale*delta,center+scale*delta])\n",
    "\n",
    "\n",
    "# fit\n",
    "param,cov = scipy.optimize.curve_fit(fitm, freq[1], fft[1], p0=[center,2e4,center,2.2e4,1e-2,1e-8],maxfev=10_000)\n",
    "print(param)\n",
    "a,b,c,d,e,f = param\n",
    "x=np.linspace(center-scale*delta,center+scale*delta)\n",
    "plt.plot(x,fitm(x,a,b,c,d,e,f))\n",
    "\n",
    "plt.show()"
   ]
  },
  {
   "cell_type": "code",
   "execution_count": 245,
   "id": "3f445d4f",
   "metadata": {
    "scrolled": false
   },
   "outputs": [],
   "source": [
    "\n",
    "fmodel = Model(fitm)\n",
    "ps = fmodel.make_params(a=center, b=2e4, c=center,d=2.2e4,e=1e-2,f=1e-8)\n",
    "ps.add('a', value=center, min=center*0.999, max=center*1.01)\n",
    "ps.add('c', value=center, min=center*0.999, max=center*1.01)\n",
    "\n",
    "\n",
    "# solo in prossimità della cavità\n",
    "interval = data[(data['freq']>center-scale*delta) & (data['freq']<center+scale*delta)]\n",
    "\n",
    "#result = fmodel.fit(interval['fft0'],x=interval['freq'], params=ps)#, weights=pesi, x=convx)\n",
    "result = fmodel.fit(interval['fft0'],x=interval['freq'], params=ps)#, weights=pesi, x=convx)"
   ]
  },
  {
   "cell_type": "code",
   "execution_count": 246,
   "id": "5243741e",
   "metadata": {},
   "outputs": [
    {
     "data": {
      "text/html": [
       "<h2> Model</h2> Model(fitm) <h2>Fit Statistics</h2><table><tr><td>fitting method</td><td>leastsq</td><td></td></tr><tr><td># function evals</td><td>85</td><td></td></tr><tr><td># data points</td><td>31</td><td></td></tr><tr><td># variables</td><td>6</td><td></td></tr><tr><td>chi-square</td><td> 0.80836551</td><td></td></tr><tr><td>reduced chi-square</td><td> 0.03233462</td><td></td></tr><tr><td>Akaike info crit.</td><td>-101.048573</td><td></td></tr><tr><td>Bayesian info crit.</td><td>-92.4446499</td><td></td></tr><tr><td>R-squared</td><td>-1.5279e-10</td><td></td></tr></table><h2>Variables</h2><table><tr><th> name </th><th> value </th><th> initial value </th><th> min </th><th> max </th><th> vary </th></tr><tr><td> a </td><td>  3.35759900 </td><td> 3.357599000000988 </td><td>  3.35424140 </td><td>  3.39117499 </td><td> True </td></tr><tr><td> b </td><td>  2872983.92 </td><td> 20000.0 </td><td>        -inf </td><td>         inf </td><td> True </td></tr><tr><td> c </td><td>  3.35759900 </td><td> 3.357599000000988 </td><td>  3.35424140 </td><td>  3.39117499 </td><td> True </td></tr><tr><td> d </td><td> -1598077.65 </td><td> 22000.0 </td><td>        -inf </td><td>         inf </td><td> True </td></tr><tr><td> e </td><td>  1.22281439 </td><td> 0.01 </td><td>        -inf </td><td>         inf </td><td> True </td></tr><tr><td> f </td><td>  1.0000e-08 </td><td> 1e-08 </td><td>        -inf </td><td>         inf </td><td> True </td></tr></table>"
      ],
      "text/plain": [
       "<lmfit.model.ModelResult at 0x7f2325971550>"
      ]
     },
     "execution_count": 246,
     "metadata": {},
     "output_type": "execute_result"
    }
   ],
   "source": [
    "result"
   ]
  },
  {
   "cell_type": "code",
   "execution_count": 249,
   "id": "fbc4ebc5",
   "metadata": {},
   "outputs": [
    {
     "data": {
      "image/png": "[encoded data removed]",
      "text/plain": [
       "<Figure size 1080x360 with 1 Axes>"
      ]
     },
     "metadata": {
      "needs_background": "light"
     },
     "output_type": "display_data"
    }
   ],
   "source": [
    "#scale=1\n",
    "plt.figure(figsize=(15,5))\n",
    "plt.ylim([4,6])\n",
    "plt.xlim([center-scale*delta,center+scale*delta])\n",
    "#plt.xlim([min(data['freq']),max(data['freq'])])\n",
    "\n",
    "plt.plot(data['freq'],data['fft0'],'.')\n",
    "plt.plot(result.best_fit)\n",
    "#plt.plot(result.init_fit)\n",
    "\n",
    "plt.show()"
   ]
  },
  {
   "cell_type": "code",
   "execution_count": 250,
   "id": "75014c17",
   "metadata": {},
   "outputs": [
    {
     "data": {
      "image/png": "[encoded data removed]",
      "text/plain": [
       "<Figure size 1080x360 with 1 Axes>"
      ]
     },
     "metadata": {
      "needs_background": "light"
     },
     "output_type": "display_data"
    }
   ],
   "source": [
    "plt.figure(figsize=(15,5))\n",
    "plt.plot(interval['freq'],interval['fft0']-result.best_fit,'o')\n",
    "\n",
    "plt.show()"
   ]
  },
  {
   "cell_type": "code",
   "execution_count": 235,
   "id": "6a0fbb06",
   "metadata": {},
   "outputs": [
    {
     "data": {
      "text/plain": [
       "array([5.12613922, 5.12613361, 5.126128  , ..., 5.10891002, 5.10890441,\n",
       "       5.1088988 ])"
      ]
     },
     "execution_count": 235,
     "metadata": {},
     "output_type": "execute_result"
    }
   ],
   "source": [
    "result.best_fit"
   ]
  }
 ],
 "metadata": {
  "kernelspec": {
   "display_name": "Python 3 (ipykernel)",
   "language": "python",
   "name": "python3"
  },
  "language_info": {
   "codemirror_mode": {
    "name": "ipython",
    "version": 3
   },
   "file_extension": ".py",
   "mimetype": "text/x-python",
   "name": "python",
   "nbconvert_exporter": "python",
   "pygments_lexer": "ipython3",
   "version": "3.9.12"
  }
 },
 "nbformat": 4,
 "nbformat_minor": 5
}
