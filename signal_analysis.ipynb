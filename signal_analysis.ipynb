{
 "cells": [
  {
   "cell_type": "code",
   "execution_count": 1,
   "id": "f4094665",
   "metadata": {},
   "outputs": [
    {
     "name": "stderr",
     "output_type": "stream",
     "text": [
      "/home/edi/anaconda3/lib/python3.9/site-packages/scipy/__init__.py:146: UserWarning: A NumPy version >=1.16.5 and <1.23.0 is required for this version of SciPy (detected version 1.23.5\n",
      "  warnings.warn(f\"A NumPy version >={np_minversion} and <{np_maxversion}\"\n"
     ]
    }
   ],
   "source": [
    "import os\n",
    "import scipy\n",
    "import pandas as pd\n",
    "import numpy as np\n",
    "import matplotlib.pyplot as plt\n",
    "\n",
    "from math import factorial\n",
    "from scipy import optimize\n",
    "from scipy.stats import poisson as pois\n",
    "#from matplotlib.pyplot import cm\n",
    "from matplotlib.gridspec import GridSpec\n",
    "from lmfit import Model"
   ]
  },
  {
   "cell_type": "code",
   "execution_count": 2,
   "id": "835a1aac",
   "metadata": {
    "scrolled": false
   },
   "outputs": [],
   "source": [
    "run_list =[389,404,392,407,394,409,395,411,397,413,399,415,401] # nome di tutte le run\n",
    "\n",
    "def load_dataset(run):\n",
    "    file = f'db/AnalyzedDataFFT_Run_{run}_sliced.xlsx'\n",
    "    meta = pd.read_excel(file,sheet_name=0,header=None)\n",
    "    freq = pd.read_excel(file,sheet_name=1)\n",
    "    fft = pd.read_excel(file,sheet_name=2)\n",
    "    \n",
    "    data = pd.DataFrame({'freq':freq[1]})\n",
    "    \n",
    "    col = 0\n",
    "    for col_name in fft.columns: # to load all the subrun\n",
    "        if col > 0:\n",
    "            data[f'fft{col-1}'] = fft[col_name]\n",
    "        col += 1\n",
    "    \n",
    "    center = meta[1][3]\n",
    "    \n",
    "    print(f'dataset loaded: {file}\\ncavity frequency: {center} Hz\\nfft subrun:{len(data.columns)-1}')\n",
    "    \n",
    "    return data,center\n",
    "\n",
    "def fit_func(x,a,b,c,d,e,f):\n",
    "    return e**2*abs(x-a+1j*b)**2/abs(x-c+1j*d)**2+f*(x-c)\n",
    "\n",
    "def fit(alldata,center,subrun=0, B=651, width=100):\n",
    "    \n",
    "    # pesi\n",
    "    L = len(alldata['freq'])\n",
    "    pesi = np.zeros(L)\n",
    "    for i in range(L):\n",
    "        pesi[i] = alldata[f'fft{subrun}'][i]/np.sqrt(1365500) # 1365500 vale solo per le run: 389,392,394,397,404\n",
    "        #pesi[i] = alldata[f'fft{subrun}'][i]/np.sqrt(1365500) # 2731?? sono i millikelvin?\n",
    "        \n",
    "    mask = (alldata['freq']>center-B*width) & (alldata['freq']<center+B*width)\n",
    "    rawdata = alldata[mask] # finestra di 200 bin ognuno da 651 Hz\n",
    "    pesi = pesi[mask]\n",
    "    \n",
    "    # scalo in potenze di yottowat\n",
    "    #display(rawdata)\n",
    "    minW = rawdata.iloc[ np.argmin(rawdata[f'fft{subrun}']),subrun + 1 ] # potenza nel minimo della cavità = rv[100]\n",
    "    ref = minW**(-1) * 3.5*1.38e-23*651/1e-24\n",
    "    data = rawdata.copy()\n",
    "    data[f'fft{subrun}'] = ref * rawdata[f'fft{subrun}']\n",
    "    #print('dopo aver scalato')\n",
    "    #display(data)\n",
    "    \n",
    "    \n",
    "    freq = data['freq']\n",
    "    fmin,fmax = min(freq),max(freq)\n",
    "    fft=data[f'fft{subrun}']\n",
    "\n",
    "    # fit\n",
    "    fmodel = Model(fit_func)\n",
    "    ps = fmodel.make_params(a=center, b=2e4, c=center,d=2.2e4,e=1e-2*np.sqrt(ref),f=1e-12*ref)\n",
    "    ps.add('a', value=center, min=center*0.999, max=center*1.01)\n",
    "    ps.add('c', value=center, min=center*0.999, max=center*1.01)\n",
    "\n",
    "    pesi = pesi*ref # scalo anche i pesi\n",
    "    result = fmodel.fit(fft,x=freq, params=ps, weights=1/pesi) # aggiungere i pesi non cambia i parametri del fit,\n",
    "                                                             # nè il loro errore, \n",
    "                                # per aggiungerli dopo aver scalato i dati bisogna capire np.sqrt(length*2731)\n",
    "    \n",
    "    fig = plt.figure(figsize=(15,10))\n",
    "    \n",
    "    gs = GridSpec(2, 2)\n",
    "    ax = fig.add_subplot(gs[0,:])\n",
    "    ax1 = fig.add_subplot(gs[1,0])\n",
    "    ax2 = fig.add_subplot(gs[1,1])\n",
    "    \n",
    "    ax.plot(freq,fft,'o',label='data')\n",
    "    ax.plot(freq,result.best_fit, color=\"red\", label='fit')\n",
    "    #ax.set_ylim([4e-5,7e-5])\n",
    "    ax.set_xlim([fmin,fmax])\n",
    "    ax.legend()\n",
    "    \n",
    "    \n",
    "    result.plot_residuals(ax=ax1,yerr=pesi)\n",
    "    ax2.hist(result.residual)\n",
    "    \n",
    "    plt.show()\n",
    "    \n",
    "    return(result)\n",
    "\n",
    "# per caricare tutte le run\n",
    "\n",
    "def load_all():\n",
    "    for i in run_list:\n",
    "        data,center = load_dataset(389)\n",
    "        for j in range(len(data.columns)-1):\n",
    "            result = fit(data,center,width=200,subrun=j)\n",
    "            print(result.residual[0])"
   ]
  },
  {
   "cell_type": "code",
   "execution_count": 3,
   "id": "148a97c9",
   "metadata": {},
   "outputs": [
    {
     "name": "stdout",
     "output_type": "stream",
     "text": [
      "AnalyzedDataFFT_Run_389_sliced.xlsx  AnalyzedDataFFT_Run_404_sliced.xlsx\r\n",
      "AnalyzedDataFFT_Run_392_sliced.xlsx  AnalyzedDataFFT_Run_407_sliced.xlsx\r\n",
      "AnalyzedDataFFT_Run_394_sliced.xlsx  AnalyzedDataFFT_Run_409_sliced.xlsx\r\n",
      "AnalyzedDataFFT_Run_395_sliced.xlsx  AnalyzedDataFFT_Run_411_sliced.xlsx\r\n",
      "AnalyzedDataFFT_Run_397_sliced.xlsx  AnalyzedDataFFT_Run_413_sliced.xlsx\r\n",
      "AnalyzedDataFFT_Run_399_sliced.xlsx  AnalyzedDataFFT_Run_415_sliced.xlsx\r\n",
      "AnalyzedDataFFT_Run_401_sliced.xlsx\r\n"
     ]
    }
   ],
   "source": [
    "!ls db"
   ]
  },
  {
   "cell_type": "code",
   "execution_count": 4,
   "id": "c74414e6",
   "metadata": {
    "scrolled": false
   },
   "outputs": [
    {
     "name": "stdout",
     "output_type": "stream",
     "text": [
      "dataset loaded: db/AnalyzedDataFFT_Run_395_sliced.xlsx\n",
      "cavity frequency: 10353468841.0 Hz\n",
      "fft subrun:2\n"
     ]
    },
    {
     "data": {
      "text/html": [
       "<div>\n",
       "<style scoped>\n",
       "    .dataframe tbody tr th:only-of-type {\n",
       "        vertical-align: middle;\n",
       "    }\n",
       "\n",
       "    .dataframe tbody tr th {\n",
       "        vertical-align: top;\n",
       "    }\n",
       "\n",
       "    .dataframe thead th {\n",
       "        text-align: right;\n",
       "    }\n",
       "</style>\n",
       "<table border=\"1\" class=\"dataframe\">\n",
       "  <thead>\n",
       "    <tr style=\"text-align: right;\">\n",
       "      <th></th>\n",
       "      <th>freq</th>\n",
       "      <th>fft0</th>\n",
       "      <th>fft1</th>\n",
       "    </tr>\n",
       "  </thead>\n",
       "  <tbody>\n",
       "    <tr>\n",
       "      <th>0</th>\n",
       "      <td>1.035200e+10</td>\n",
       "      <td>0.000048</td>\n",
       "      <td>0.000049</td>\n",
       "    </tr>\n",
       "    <tr>\n",
       "      <th>1</th>\n",
       "      <td>1.035200e+10</td>\n",
       "      <td>0.000048</td>\n",
       "      <td>0.000049</td>\n",
       "    </tr>\n",
       "    <tr>\n",
       "      <th>2</th>\n",
       "      <td>1.035200e+10</td>\n",
       "      <td>0.000048</td>\n",
       "      <td>0.000049</td>\n",
       "    </tr>\n",
       "    <tr>\n",
       "      <th>3</th>\n",
       "      <td>1.035200e+10</td>\n",
       "      <td>0.000048</td>\n",
       "      <td>0.000049</td>\n",
       "    </tr>\n",
       "    <tr>\n",
       "      <th>4</th>\n",
       "      <td>1.035200e+10</td>\n",
       "      <td>0.000048</td>\n",
       "      <td>0.000049</td>\n",
       "    </tr>\n",
       "    <tr>\n",
       "      <th>...</th>\n",
       "      <td>...</td>\n",
       "      <td>...</td>\n",
       "      <td>...</td>\n",
       "    </tr>\n",
       "    <tr>\n",
       "      <th>3067</th>\n",
       "      <td>1.035400e+10</td>\n",
       "      <td>0.000048</td>\n",
       "      <td>0.000049</td>\n",
       "    </tr>\n",
       "    <tr>\n",
       "      <th>3068</th>\n",
       "      <td>1.035400e+10</td>\n",
       "      <td>0.000048</td>\n",
       "      <td>0.000049</td>\n",
       "    </tr>\n",
       "    <tr>\n",
       "      <th>3069</th>\n",
       "      <td>1.035400e+10</td>\n",
       "      <td>0.000048</td>\n",
       "      <td>0.000049</td>\n",
       "    </tr>\n",
       "    <tr>\n",
       "      <th>3070</th>\n",
       "      <td>1.035400e+10</td>\n",
       "      <td>0.000048</td>\n",
       "      <td>0.000049</td>\n",
       "    </tr>\n",
       "    <tr>\n",
       "      <th>3071</th>\n",
       "      <td>1.035400e+10</td>\n",
       "      <td>0.000048</td>\n",
       "      <td>0.000049</td>\n",
       "    </tr>\n",
       "  </tbody>\n",
       "</table>\n",
       "<p>3072 rows × 3 columns</p>\n",
       "</div>"
      ],
      "text/plain": [
       "              freq      fft0      fft1\n",
       "0     1.035200e+10  0.000048  0.000049\n",
       "1     1.035200e+10  0.000048  0.000049\n",
       "2     1.035200e+10  0.000048  0.000049\n",
       "3     1.035200e+10  0.000048  0.000049\n",
       "4     1.035200e+10  0.000048  0.000049\n",
       "...            ...       ...       ...\n",
       "3067  1.035400e+10  0.000048  0.000049\n",
       "3068  1.035400e+10  0.000048  0.000049\n",
       "3069  1.035400e+10  0.000048  0.000049\n",
       "3070  1.035400e+10  0.000048  0.000049\n",
       "3071  1.035400e+10  0.000048  0.000049\n",
       "\n",
       "[3072 rows x 3 columns]"
      ]
     },
     "execution_count": 4,
     "metadata": {},
     "output_type": "execute_result"
    }
   ],
   "source": [
    "# se c'è più di una subrun vengono caricate tutte in colonne diverse di nome fft{i}\n",
    "data,center = load_dataset(395)\n",
    "data"
   ]
  },
  {
   "cell_type": "code",
   "execution_count": 5,
   "id": "1abe4655",
   "metadata": {
    "scrolled": false
   },
   "outputs": [],
   "source": [
    "# provo finestre di diverse lunghezze\n",
    "\n",
    "#data,center = load_dataset(389)\n",
    "#\n",
    "#for i in range(100,500,100):\n",
    "#    print('\\n\\n*****************************************************************')\n",
    "#    print(f'*******   RUN with window of {2*i} bin length   *****************')\n",
    "#    print('*****************************************************************')\n",
    "#    result = fit(data,center,width=i)\n",
    "#    print('---------------')\n",
    "#    print('chi-square',result.chisqr)"
   ]
  },
  {
   "cell_type": "markdown",
   "id": "f14d71f7",
   "metadata": {
    "scrolled": false
   },
   "source": [
    "Fino a +200 -200 si ottiene un ottimo fit"
   ]
  },
  {
   "cell_type": "code",
   "execution_count": 101,
   "id": "32be5d6f",
   "metadata": {
    "scrolled": false
   },
   "outputs": [
    {
     "name": "stdout",
     "output_type": "stream",
     "text": [
      "dataset loaded: db/AnalyzedDataFFT_Run_389_sliced.xlsx\n",
      "cavity frequency: 10353522551.0 Hz\n",
      "fft subrun:1\n"
     ]
    },
    {
     "data": {
      "image/png": "[encoded data removed]",
      "text/plain": [
       "<Figure size 1080x720 with 3 Axes>"
      ]
     },
     "metadata": {
      "needs_background": "light"
     },
     "output_type": "display_data"
    }
   ],
   "source": [
    "data,center = load_dataset(389)\n",
    "result = fit(data,center, width=100)"
   ]
  },
  {
   "cell_type": "code",
   "execution_count": null,
   "id": "d77b2b44",
   "metadata": {
    "scrolled": false
   },
   "outputs": [],
   "source": []
  },
  {
   "cell_type": "code",
   "execution_count": null,
   "id": "71ceda88",
   "metadata": {},
   "outputs": [],
   "source": []
  },
  {
   "cell_type": "code",
   "execution_count": null,
   "id": "4e290be9",
   "metadata": {},
   "outputs": [],
   "source": []
  },
  {
   "cell_type": "code",
   "execution_count": null,
   "id": "b4318b05",
   "metadata": {
    "scrolled": false
   },
   "outputs": [],
   "source": []
  }
 ],
 "metadata": {
  "kernelspec": {
   "display_name": "Python 3 (ipykernel)",
   "language": "python",
   "name": "python3"
  },
  "language_info": {
   "codemirror_mode": {
    "name": "ipython",
    "version": 3
   },
   "file_extension": ".py",
   "mimetype": "text/x-python",
   "name": "python",
   "nbconvert_exporter": "python",
   "pygments_lexer": "ipython3",
   "version": "3.10.6"
  }
 },
 "nbformat": 4,
 "nbformat_minor": 5
}
